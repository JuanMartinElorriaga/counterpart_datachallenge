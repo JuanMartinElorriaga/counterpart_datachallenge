{
 "cells": [
  {
   "cell_type": "markdown",
   "metadata": {},
   "source": [
    "## Profiling report and KNN Imputation for status and value features"
   ]
  },
  {
   "cell_type": "markdown",
   "metadata": {},
   "source": [
    "#### Libraries"
   ]
  },
  {
   "cell_type": "code",
   "execution_count": 1,
   "metadata": {},
   "outputs": [],
   "source": [
    "import pandas as pd\n",
    "from pandas_profiling import ProfileReport\n",
    "import numpy as np\n",
    "from sklearn.impute import KNNImputer"
   ]
  },
  {
   "cell_type": "markdown",
   "metadata": {},
   "source": [
    "#### DF Reading"
   ]
  },
  {
   "cell_type": "code",
   "execution_count": 2,
   "metadata": {},
   "outputs": [],
   "source": [
    "# Read CSVs\n",
    "df_training = pd.read_csv('../data/training.csv')\n",
    "df_test     = pd.read_csv('../data/testing.csv')\n",
    "DF          = pd.concat([df_training, df_test], sort=False)"
   ]
  },
  {
   "cell_type": "code",
   "execution_count": 3,
   "metadata": {},
   "outputs": [
    {
     "data": {
      "text/html": [
       "<div>\n",
       "<style scoped>\n",
       "    .dataframe tbody tr th:only-of-type {\n",
       "        vertical-align: middle;\n",
       "    }\n",
       "\n",
       "    .dataframe tbody tr th {\n",
       "        vertical-align: top;\n",
       "    }\n",
       "\n",
       "    .dataframe thead th {\n",
       "        text-align: right;\n",
       "    }\n",
       "</style>\n",
       "<table border=\"1\" class=\"dataframe\">\n",
       "  <thead>\n",
       "    <tr style=\"text-align: right;\">\n",
       "      <th></th>\n",
       "      <th>city</th>\n",
       "      <th>website</th>\n",
       "      <th>employees</th>\n",
       "      <th>status</th>\n",
       "      <th>value</th>\n",
       "    </tr>\n",
       "  </thead>\n",
       "  <tbody>\n",
       "    <tr>\n",
       "      <th>0</th>\n",
       "      <td>New York</td>\n",
       "      <td>http://www.ejmequities.com/</td>\n",
       "      <td>101-250</td>\n",
       "      <td>private</td>\n",
       "      <td>0</td>\n",
       "    </tr>\n",
       "    <tr>\n",
       "      <th>1</th>\n",
       "      <td>Las Vegas</td>\n",
       "      <td>http://www.digipath.com</td>\n",
       "      <td>11-50</td>\n",
       "      <td>public</td>\n",
       "      <td>0</td>\n",
       "    </tr>\n",
       "    <tr>\n",
       "      <th>2</th>\n",
       "      <td>Mountain View</td>\n",
       "      <td>http://www.videogram.com</td>\n",
       "      <td>1-10</td>\n",
       "      <td>private</td>\n",
       "      <td>0</td>\n",
       "    </tr>\n",
       "  </tbody>\n",
       "</table>\n",
       "</div>"
      ],
      "text/plain": [
       "            city                      website employees   status  value\n",
       "0       New York  http://www.ejmequities.com/   101-250  private      0\n",
       "1      Las Vegas      http://www.digipath.com     11-50   public      0\n",
       "2  Mountain View     http://www.videogram.com      1-10  private      0"
      ]
     },
     "execution_count": 3,
     "metadata": {},
     "output_type": "execute_result"
    }
   ],
   "source": [
    "df_training.head(3)"
   ]
  },
  {
   "cell_type": "markdown",
   "metadata": {},
   "source": [
    "## Pandas Profiling\n",
    "- The final result can be seen in 'Profiling_report.html'"
   ]
  },
  {
   "cell_type": "code",
   "execution_count": null,
   "metadata": {},
   "outputs": [],
   "source": [
    "profile = ProfileReport(df_training, title=\"Profiling Report\", explorative=True)\n",
    "#profile.to_file(\"Profiling_report.html\")"
   ]
  },
  {
   "cell_type": "markdown",
   "metadata": {},
   "source": [
    "## KNN Imputation"
   ]
  },
  {
   "cell_type": "markdown",
   "metadata": {},
   "source": [
    "### Categorical Variables"
   ]
  },
  {
   "cell_type": "code",
   "execution_count": 5,
   "metadata": {},
   "outputs": [
    {
     "data": {
      "text/plain": [
       "city         category\n",
       "website        object\n",
       "employees    category\n",
       "status       category\n",
       "value         float64\n",
       "dtype: object"
      ]
     },
     "execution_count": 5,
     "metadata": {},
     "output_type": "execute_result"
    }
   ],
   "source": [
    "# Parse Object variables as Categorical for further imputation\n",
    "DF['employees'] = pd.Categorical(DF.employees)\n",
    "DF['city']      = pd.Categorical(DF.city)\n",
    "DF['status']    = pd.Categorical(DF.status)\n",
    "DF.dtypes"
   ]
  },
  {
   "cell_type": "code",
   "execution_count": 6,
   "metadata": {},
   "outputs": [
    {
     "data": {
      "text/html": [
       "<div>\n",
       "<style scoped>\n",
       "    .dataframe tbody tr th:only-of-type {\n",
       "        vertical-align: middle;\n",
       "    }\n",
       "\n",
       "    .dataframe tbody tr th {\n",
       "        vertical-align: top;\n",
       "    }\n",
       "\n",
       "    .dataframe thead th {\n",
       "        text-align: right;\n",
       "    }\n",
       "</style>\n",
       "<table border=\"1\" class=\"dataframe\">\n",
       "  <thead>\n",
       "    <tr style=\"text-align: right;\">\n",
       "      <th></th>\n",
       "      <th>city</th>\n",
       "      <th>employees</th>\n",
       "      <th>status</th>\n",
       "      <th>value</th>\n",
       "    </tr>\n",
       "  </thead>\n",
       "  <tbody>\n",
       "    <tr>\n",
       "      <th>0</th>\n",
       "      <td>New York</td>\n",
       "      <td>101-250</td>\n",
       "      <td>private</td>\n",
       "      <td>0.0</td>\n",
       "    </tr>\n",
       "    <tr>\n",
       "      <th>1</th>\n",
       "      <td>Las Vegas</td>\n",
       "      <td>11-50</td>\n",
       "      <td>public</td>\n",
       "      <td>0.0</td>\n",
       "    </tr>\n",
       "    <tr>\n",
       "      <th>2</th>\n",
       "      <td>Mountain View</td>\n",
       "      <td>1-10</td>\n",
       "      <td>private</td>\n",
       "      <td>0.0</td>\n",
       "    </tr>\n",
       "    <tr>\n",
       "      <th>3</th>\n",
       "      <td>Glen Allen</td>\n",
       "      <td>11-50</td>\n",
       "      <td>private</td>\n",
       "      <td>0.0</td>\n",
       "    </tr>\n",
       "    <tr>\n",
       "      <th>4</th>\n",
       "      <td>Houston</td>\n",
       "      <td>11-50</td>\n",
       "      <td>private</td>\n",
       "      <td>0.0</td>\n",
       "    </tr>\n",
       "  </tbody>\n",
       "</table>\n",
       "</div>"
      ],
      "text/plain": [
       "            city employees   status  value\n",
       "0       New York   101-250  private    0.0\n",
       "1      Las Vegas     11-50   public    0.0\n",
       "2  Mountain View      1-10  private    0.0\n",
       "3     Glen Allen     11-50  private    0.0\n",
       "4        Houston     11-50  private    0.0"
      ]
     },
     "execution_count": 6,
     "metadata": {},
     "output_type": "execute_result"
    }
   ],
   "source": [
    "# Website variable is removed for cleaner analysis\n",
    "DF_mini = DF[['city', 'employees', 'status', 'value' ]]\n",
    "DF_mini.head()"
   ]
  },
  {
   "cell_type": "code",
   "execution_count": 7,
   "metadata": {},
   "outputs": [],
   "source": [
    "# Dummies encoding for City and Employees variables\n",
    "categorical_cols = ['city', 'employees'] \n",
    "DF_dummy         = pd.get_dummies(DF_mini, columns = categorical_cols)"
   ]
  },
  {
   "cell_type": "markdown",
   "metadata": {},
   "source": [
    "### Imputation for status and value columns"
   ]
  },
  {
   "cell_type": "code",
   "execution_count": 8,
   "metadata": {},
   "outputs": [],
   "source": [
    "# Label Encoding for Status variable\n",
    "from sklearn import preprocessing\n",
    "label_encoder      = preprocessing.LabelEncoder()\n",
    "DF_dummy['status'] = label_encoder.fit_transform(DF_dummy['status'])\n",
    "# Replace label '3' for NaN\n",
    "DF_dummy['status'] = DF_dummy['status'].replace(3, np.NaN)"
   ]
  },
  {
   "cell_type": "markdown",
   "metadata": {},
   "source": [
    "### KNN Imputer"
   ]
  },
  {
   "cell_type": "code",
   "execution_count": 10,
   "metadata": {},
   "outputs": [],
   "source": [
    "imputer    = KNNImputer(n_neighbors=1)\n",
    "DF_imputed = imputer.fit_transform(DF_dummy)\n",
    "df         = pd.DataFrame(imputer.fit_transform(DF_imputed), columns = DF_dummy.columns)"
   ]
  },
  {
   "cell_type": "code",
   "execution_count": 12,
   "metadata": {},
   "outputs": [],
   "source": [
    "# Take the last 2000 values to match original testing.csv\n",
    "df_test_final = df.iloc[2000:].reset_index(drop=True)"
   ]
  },
  {
   "cell_type": "code",
   "execution_count": 13,
   "metadata": {},
   "outputs": [],
   "source": [
    "imputated_cols = df_test_final[['value', 'status']]\n",
    "df_test_final  = pd.concat([df_test, imputated_cols], axis=1, join='inner')"
   ]
  },
  {
   "cell_type": "code",
   "execution_count": 14,
   "metadata": {},
   "outputs": [],
   "source": [
    "# Finally, parse status column again as string\n",
    "df_test_final['status'] = df_test_final['status'].astype(int).astype(str)\n",
    "df_test_final['status'] = np.where(df_test_final['status']=='1', 'private', df_test_final['status'])\n",
    "df_test_final['status'] = np.where(df_test_final['status']=='2', 'public', df_test_final['status'])\n",
    "df_test_final['status'] = np.where(df_test_final['status']=='0', 'delisted', df_test_final['status'])\n",
    "df_test_final['value'] = df_test_final.value.astype(int)\n"
   ]
  },
  {
   "cell_type": "code",
   "execution_count": 15,
   "metadata": {},
   "outputs": [
    {
     "data": {
      "text/plain": [
       "private     1738\n",
       "public       239\n",
       "delisted      23\n",
       "Name: status, dtype: int64"
      ]
     },
     "execution_count": 15,
     "metadata": {},
     "output_type": "execute_result"
    }
   ],
   "source": [
    "# Last value counts: status\n",
    "df_test_final.status.value_counts()"
   ]
  },
  {
   "cell_type": "code",
   "execution_count": 16,
   "metadata": {},
   "outputs": [
    {
     "data": {
      "text/plain": [
       "0    1675\n",
       "1     325\n",
       "Name: value, dtype: int64"
      ]
     },
     "execution_count": 16,
     "metadata": {},
     "output_type": "execute_result"
    }
   ],
   "source": [
    "# Last value counts: value\n",
    "df_test_final.value.value_counts()"
   ]
  },
  {
   "cell_type": "code",
   "execution_count": 17,
   "metadata": {},
   "outputs": [
    {
     "data": {
      "text/html": [
       "<div>\n",
       "<style scoped>\n",
       "    .dataframe tbody tr th:only-of-type {\n",
       "        vertical-align: middle;\n",
       "    }\n",
       "\n",
       "    .dataframe tbody tr th {\n",
       "        vertical-align: top;\n",
       "    }\n",
       "\n",
       "    .dataframe thead th {\n",
       "        text-align: right;\n",
       "    }\n",
       "</style>\n",
       "<table border=\"1\" class=\"dataframe\">\n",
       "  <thead>\n",
       "    <tr style=\"text-align: right;\">\n",
       "      <th></th>\n",
       "      <th>city</th>\n",
       "      <th>website</th>\n",
       "      <th>employees</th>\n",
       "      <th>value</th>\n",
       "      <th>status</th>\n",
       "    </tr>\n",
       "  </thead>\n",
       "  <tbody>\n",
       "    <tr>\n",
       "      <th>0</th>\n",
       "      <td>Kansas City</td>\n",
       "      <td>http://www.lendingstandard.com</td>\n",
       "      <td>11-50</td>\n",
       "      <td>0</td>\n",
       "      <td>private</td>\n",
       "    </tr>\n",
       "    <tr>\n",
       "      <th>1</th>\n",
       "      <td>Newport Beach</td>\n",
       "      <td>https://www.cudasign.com/</td>\n",
       "      <td>11-50</td>\n",
       "      <td>0</td>\n",
       "      <td>private</td>\n",
       "    </tr>\n",
       "    <tr>\n",
       "      <th>2</th>\n",
       "      <td>Oakland</td>\n",
       "      <td>https://fivetran.com</td>\n",
       "      <td>251-500</td>\n",
       "      <td>0</td>\n",
       "      <td>private</td>\n",
       "    </tr>\n",
       "    <tr>\n",
       "      <th>3</th>\n",
       "      <td>New York</td>\n",
       "      <td>http://www.powerspike.tv</td>\n",
       "      <td>11-50</td>\n",
       "      <td>1</td>\n",
       "      <td>private</td>\n",
       "    </tr>\n",
       "    <tr>\n",
       "      <th>4</th>\n",
       "      <td>Sacramento</td>\n",
       "      <td>https://www.rhombussystems.com</td>\n",
       "      <td>11-50</td>\n",
       "      <td>0</td>\n",
       "      <td>private</td>\n",
       "    </tr>\n",
       "    <tr>\n",
       "      <th>...</th>\n",
       "      <td>...</td>\n",
       "      <td>...</td>\n",
       "      <td>...</td>\n",
       "      <td>...</td>\n",
       "      <td>...</td>\n",
       "    </tr>\n",
       "    <tr>\n",
       "      <th>1995</th>\n",
       "      <td>Philadelphia</td>\n",
       "      <td>https://www.vybe.care/</td>\n",
       "      <td>11-50</td>\n",
       "      <td>0</td>\n",
       "      <td>private</td>\n",
       "    </tr>\n",
       "    <tr>\n",
       "      <th>1996</th>\n",
       "      <td>Boston</td>\n",
       "      <td>http://www.qmenta.com</td>\n",
       "      <td>11-50</td>\n",
       "      <td>0</td>\n",
       "      <td>private</td>\n",
       "    </tr>\n",
       "    <tr>\n",
       "      <th>1997</th>\n",
       "      <td>San Francisco</td>\n",
       "      <td>https://www.bitski.com/</td>\n",
       "      <td>1-10</td>\n",
       "      <td>1</td>\n",
       "      <td>private</td>\n",
       "    </tr>\n",
       "    <tr>\n",
       "      <th>1998</th>\n",
       "      <td>Alpharetta</td>\n",
       "      <td>https://cmon.com/</td>\n",
       "      <td>11-50</td>\n",
       "      <td>0</td>\n",
       "      <td>private</td>\n",
       "    </tr>\n",
       "    <tr>\n",
       "      <th>1999</th>\n",
       "      <td>New York</td>\n",
       "      <td>http://dogsyncapp.com/</td>\n",
       "      <td>1-10</td>\n",
       "      <td>0</td>\n",
       "      <td>private</td>\n",
       "    </tr>\n",
       "  </tbody>\n",
       "</table>\n",
       "<p>2000 rows × 5 columns</p>\n",
       "</div>"
      ],
      "text/plain": [
       "               city                         website employees  value   status\n",
       "0       Kansas City  http://www.lendingstandard.com     11-50      0  private\n",
       "1     Newport Beach       https://www.cudasign.com/     11-50      0  private\n",
       "2           Oakland            https://fivetran.com   251-500      0  private\n",
       "3          New York        http://www.powerspike.tv     11-50      1  private\n",
       "4        Sacramento  https://www.rhombussystems.com     11-50      0  private\n",
       "...             ...                             ...       ...    ...      ...\n",
       "1995   Philadelphia          https://www.vybe.care/     11-50      0  private\n",
       "1996         Boston           http://www.qmenta.com     11-50      0  private\n",
       "1997  San Francisco         https://www.bitski.com/      1-10      1  private\n",
       "1998     Alpharetta               https://cmon.com/     11-50      0  private\n",
       "1999       New York          http://dogsyncapp.com/      1-10      0  private\n",
       "\n",
       "[2000 rows x 5 columns]"
      ]
     },
     "execution_count": 17,
     "metadata": {},
     "output_type": "execute_result"
    }
   ],
   "source": [
    "# Final df format\n",
    "df_test_final"
   ]
  },
  {
   "cell_type": "markdown",
   "metadata": {},
   "source": [
    "### Export as CSV file"
   ]
  },
  {
   "cell_type": "code",
   "execution_count": null,
   "metadata": {},
   "outputs": [],
   "source": [
    "#df_test_final.to_csv('../processed/testing_filled.csv', index=False)"
   ]
  }
 ],
 "metadata": {
  "interpreter": {
   "hash": "ecabd993aacb24b5f416c879bcc39f3473fbf9adef20e9e945c017ea26d16b06"
  },
  "kernelspec": {
   "display_name": "Python 3.10.0 64-bit ('BI': conda)",
   "language": "python",
   "name": "python3"
  },
  "language_info": {
   "codemirror_mode": {
    "name": "ipython",
    "version": 3
   },
   "file_extension": ".py",
   "mimetype": "text/x-python",
   "name": "python",
   "nbconvert_exporter": "python",
   "pygments_lexer": "ipython3",
   "version": "3.9.9"
  },
  "orig_nbformat": 4
 },
 "nbformat": 4,
 "nbformat_minor": 2
}
